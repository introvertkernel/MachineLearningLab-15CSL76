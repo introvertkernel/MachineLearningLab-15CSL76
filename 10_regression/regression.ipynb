{
 "cells": [
  {
   "cell_type": "code",
   "execution_count": 47,
   "metadata": {
    "scrolled": false
   },
   "outputs": [
    {
     "data": {
      "image/png": "[encoded data removed]",
      "text/plain": [
       "<Figure size 432x288 with 1 Axes>"
      ]
     },
     "metadata": {},
     "output_type": "display_data"
    }
   ],
   "source": [
    "%matplotlib inline\n",
    "\n",
    "from numpy import *\n",
    "import matplotlib.pyplot as plt\n",
    "import pandas as pd\n",
    "#import operator\n",
    "#from os import listdir\n",
    "#import matplotlib\n",
    "#import numpy.linalg \n",
    "#from scipy.stats.stats import pearsonr\n",
    " \n",
    "def kernel(point,xmat, k):\n",
    "    m,n = shape(xmat)\n",
    "    weights = mat(eye((m)))\n",
    "    #print(weights)\n",
    "#     print(eye(m))\n",
    "    for j in range(m):\n",
    "        diff = point - X[j]\n",
    "        weights[j,j] = exp(diff*diff.T/(-2.0*k**2))\n",
    "    return weights\n",
    " \n",
    "def localWeight(point,xmat,ymat,k):\n",
    "    wei = kernel(point,xmat,k)\n",
    "    W = (X.T*(wei*X)).I*(X.T*(wei*ymat.T))\n",
    "#     print(W)\n",
    "    return W\n",
    "     \n",
    "def localWeightRegression(xmat,ymat,k):\n",
    "    m,n = shape(xmat)\n",
    "#     print(shape(xmat))\n",
    "    ypred = zeros(m)\n",
    "#     print(ypred)\n",
    "    for i in range(m):\n",
    "        ypred[i] = xmat[i]*localWeight(xmat[i],xmat,ymat,k)\n",
    "    return ypred\n",
    "     \n",
    "# def basicRegression(X,mtip):\n",
    "#     #according to equation\n",
    "#     W = (X.T*X).I*(X.T*mtip.T)\n",
    "#     return W\n",
    "     \n",
    "# load data points\n",
    "data = pd.read_csv('tips.csv')\n",
    "bill = array(data.total_bill)\n",
    "tip = array(data.tip)\n",
    "\n",
    "# print(bill)\n",
    "# print(tip)\n",
    " \n",
    "#preparing and add 1 in bill\n",
    "mbill = mat(bill)\n",
    "mtip = mat(tip)\n",
    "# print(mbill)\n",
    "# print(mtip)\n",
    "#count no of mbill OR it gives (no.of rows, no.of col)\n",
    "m= shape(mbill)[1]\n",
    "# print(shape(mbill)[0])\n",
    "#create 1D matrix\n",
    "one = mat(ones(m))\n",
    "# print(ones)\n",
    "#T makes stack type or 1D 1 element matrix. ie:[[1].....]\n",
    "# print((one.T).T)\n",
    "#Here ([one,mbill]) of 1D type is created\n",
    "X= hstack((one.T,mbill.T))\n",
    "# print(X)\n",
    "\n",
    " \n",
    "#set k here\n",
    "ypred = localWeightRegression(X,mtip,10)\n",
    "#most complex\n",
    "#sorting and return sorted INDEX --argsort\n",
    "# print(X[:,0].argsort(0))\n",
    "SortIndex = X[:,1].argsort(0)\n",
    "#print(X[:,1])\n",
    "xsort = X[SortIndex][:,0]\n",
    "# print(xsort)\n",
    "     \n",
    "fig = plt.figure()\n",
    "ax = fig.add_subplot(1,1,1)\n",
    "ax.scatter(bill,tip, color='green')\n",
    "ax.plot(xsort[:,1],ypred[SortIndex], color = 'red', linewidth=2)\n",
    "plt.xlabel('Total bill')\n",
    "plt.ylabel('Tip')\n",
    "plt.show();"
   ]
  },
  {
   "cell_type": "code",
   "execution_count": null,
   "metadata": {},
   "outputs": [],
   "source": []
  },
  {
   "cell_type": "code",
   "execution_count": null,
   "metadata": {},
   "outputs": [],
   "source": []
  }
 ],
 "metadata": {
  "kernelspec": {
   "display_name": "Python 3",
   "language": "python",
   "name": "python3"
  },
  "language_info": {
   "codemirror_mode": {
    "name": "ipython",
    "version": 3
   },
   "file_extension": ".py",
   "mimetype": "text/x-python",
   "name": "python",
   "nbconvert_exporter": "python",
   "pygments_lexer": "ipython3",
   "version": "3.6.6"
  }
 },
 "nbformat": 4,
 "nbformat_minor": 2
}
