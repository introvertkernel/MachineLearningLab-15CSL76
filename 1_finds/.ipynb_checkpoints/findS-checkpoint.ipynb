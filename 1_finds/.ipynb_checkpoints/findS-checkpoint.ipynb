{
 "cells": [
  {
   "cell_type": "code",
   "execution_count": 1,
   "metadata": {},
   "outputs": [
    {
     "name": "stdout",
     "output_type": "stream",
     "text": [
      "[['sunny', 'hot', 'high', 'weak', '0'], ['sunny', 'hot', 'high', 'strong', '0'], ['overcast', 'hot', 'high', 'weak', '1'], ['rain', 'mild', 'high', 'weak', '0'], ['rain', 'cool', 'normal', 'weak', '1'], ['rain', 'cool', 'normal', 'strong', '0'], ['overcast', 'cool', 'normal', 'strong', '1'], ['sunny', 'mild', 'high', 'weak', '0'], ['sunny', 'cool', 'normal', 'weak', '1'], ['rain', 'mild', 'normal', 'weak', '1'], ['sunny', 'mild', 'normal', 'strong', '1'], ['overcast', 'mild', 'high', 'strong', '1'], ['overcast', 'hot', 'normal', 'weak', '1'], ['rain', 'mild', 'high', 'strong', '0']]\n",
      "Maximally Specific set\n",
      "('<', ' ')\n",
      "('?', ' ')\n",
      "('?', ' ')\n",
      "('?', ' ')\n",
      "('weak', ' ')\n",
      ">\n"
     ]
    }
   ],
   "source": [
    "import random\n",
    "import csv\n",
    "\n",
    "def read_data(filename):\n",
    "\n",
    "    with open(filename, 'r') as csvfile:\n",
    "        datareader = csv.reader(csvfile, delimiter=',')\n",
    "        traindata = []\n",
    "        for row in datareader:\n",
    "            traindata.append(row)\n",
    "    print(traindata)\n",
    "\n",
    "    return (traindata)\n",
    "\n",
    "def findS():\n",
    "    dataarr=read_data('tennis.data')\n",
    "    #print(dataarr)\n",
    "    h=dataarr[0]\n",
    "    rows=len(dataarr)\n",
    "    columns=5\n",
    "    \n",
    "    for x in range(1,rows):\n",
    "        t=dataarr[x]\n",
    "        if t[columns-1]=='1':\n",
    "            for y in range(columns):\n",
    "                if h[y]==t[y]:\n",
    "                    for y in range(columns):\n",
    "                        if h[y]==t[y]:\n",
    "                            pass\n",
    "                        else:\n",
    "                            h[y]='?'\n",
    "    print(\"Maximally Specific set\")\n",
    "    print('<', ' ')\n",
    "    for i in range(0,len(h)-1):\n",
    "        print(h[i],' ')\n",
    "    print('>')\n",
    "findS()"
   ]
  },
  {
   "cell_type": "code",
   "execution_count": null,
   "metadata": {},
   "outputs": [],
   "source": []
  }
 ],
 "metadata": {
  "kernelspec": {
   "display_name": "Python 2",
   "language": "python",
   "name": "python2"
  },
  "language_info": {
   "codemirror_mode": {
    "name": "ipython",
    "version": 2
   },
   "file_extension": ".py",
   "mimetype": "text/x-python",
   "name": "python",
   "nbconvert_exporter": "python",
   "pygments_lexer": "ipython2",
   "version": "2.7.15"
  }
 },
 "nbformat": 4,
 "nbformat_minor": 2
}
